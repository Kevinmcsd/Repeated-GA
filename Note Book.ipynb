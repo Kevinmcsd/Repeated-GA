{
 "cells": [
  {
   "cell_type": "markdown",
   "metadata": {},
   "source": [
    "![Computational Modelling for Predict Repeat General Anaesthesia in Paediatric Dentistry Patients](Images/Main.jpg)"
   ]
  },
  {
   "cell_type": "markdown",
   "metadata": {},
   "source": [
    "<p style=\"font-size:30px;text-align:center;color:rgba(78,6,176,255)\">Computational Modelling for Predict Repeat General Anaesthesia </p>\n",
    "<p style=\"font-size:30px;text-align:center;color:rgba(78,6,176,255)\">in Paediatric Dentistry Patients </p>\n",
    "\n",
    "<p style=\"font-size:15px;text-align:center;color:rgba(78,6,176,255)\">Spring 2023</p>"
   ]
  },
  {
   "cell_type": "markdown",
   "metadata": {},
   "source": [
    "<h1>1-Objective:</h1>"
   ]
  },
  {
   "cell_type": "markdown",
   "metadata": {},
   "source": [
    "The objective of this research project is to develop a predictive model using machine learning techniques to identify factors associated with repeat general anaesthesia (GA) in paediatric dentistry patients. The model will provide valuable insights into the risk factors and contribute to optimizing treatment planning and patient management strategies in dental practices."
   ]
  },
  {
   "cell_type": "markdown",
   "metadata": {},
   "source": [
    "⬇Libraries"
   ]
  },
  {
   "cell_type": "code",
   "execution_count": 73,
   "metadata": {},
   "outputs": [],
   "source": [
    "import pandas as pd\n",
    "import numpy as np\n",
    "from IPython.core.display import HTML\n",
    "import matplotlib.pyplot as plt\n",
    "import seaborn as sns"
   ]
  },
  {
   "cell_type": "markdown",
   "metadata": {},
   "source": [
    "📌 My Functions & Classes"
   ]
  },
  {
   "cell_type": "code",
   "execution_count": 7,
   "metadata": {},
   "outputs": [
    {
     "name": "stdout",
     "output_type": "stream",
     "text": [
      "\u001b[1m\u001b[90mNotebook Color Scheme:\u001b[0m\n"
     ]
    },
    {
     "data": {
      "image/png": "[encoded data removed]",
      "text/plain": [
       "<Figure size 576x72 with 1 Axes>"
      ]
     },
     "metadata": {
      "needs_background": "light"
     },
     "output_type": "display_data"
    }
   ],
   "source": [
    "class clr:\n",
    "    S = '\\033[1m' + '\\033[90m'\n",
    "    E = '\\033[0m'\n",
    "my_colors = [\"#f2d68f\", \"#4c5bac\", \"#5105b0\", \"#403737\", \"#5a5564\" ,\"#6b48d4\",\"#7484ae\",\"#a4b4dc\"]\n",
    "sns.palplot(sns.color_palette(my_colors))\n",
    "print(clr.S+\"Notebook Color Scheme:\"+clr.E)\n",
    "plt.show()"
   ]
  },
  {
   "cell_type": "markdown",
   "metadata": {},
   "source": [
    "<h1>1-The Data & EDA</h1>"
   ]
  },
  {
   "cell_type": "markdown",
   "metadata": {},
   "source": [
    "📝 we have two datasets.One for patients who had only once GA. Another one for others that more than once GA.<br>\n",
    "let's have look to all of them."
   ]
  },
  {
   "cell_type": "code",
   "execution_count": 8,
   "metadata": {},
   "outputs": [],
   "source": [
    "#Read Data in DataFrame\n",
    "df1=pd.read_csv(\"Data\\Dental GA research - Copy.csv\")\n",
    "df2=pd.read_csv(\"Data\\Repeat.csv\")"
   ]
  },
  {
   "cell_type": "markdown",
   "metadata": {},
   "source": [
    "📝 df1 consists of data for patients who had only once GA "
   ]
  },
  {
   "cell_type": "code",
   "execution_count": 9,
   "metadata": {},
   "outputs": [
    {
     "data": {
      "text/html": [
       "<div>\n",
       "<style scoped>\n",
       "    .dataframe tbody tr th:only-of-type {\n",
       "        vertical-align: middle;\n",
       "    }\n",
       "\n",
       "    .dataframe tbody tr th {\n",
       "        vertical-align: top;\n",
       "    }\n",
       "\n",
       "    .dataframe thead th {\n",
       "        text-align: right;\n",
       "    }\n",
       "</style>\n",
       "<table border=\"1\" class=\"dataframe\">\n",
       "  <thead>\n",
       "    <tr style=\"text-align: right;\">\n",
       "      <th></th>\n",
       "      <th>ID</th>\n",
       "      <th>medical History (Yes=1, No=0)</th>\n",
       "      <th>age</th>\n",
       "      <th>regular attender (Yes=1, No=0)</th>\n",
       "      <th>Socioeconomic status(Low=1, Moderate=2, High=3)</th>\n",
       "      <th>Ease of Access (Yes=1, No=0)</th>\n",
       "      <th>PRETREATMENT RADIOGRAPHS(Yes=1, No=0)</th>\n",
       "      <th>Justification for GA(Yes=1, No=0)</th>\n",
       "      <th>Type of GA list (RESTORATIVE=0, Composite=1,crowns =2, Extraction only=3)</th>\n",
       "      <th>REPEAT GA(Yes=1, No=0)</th>\n",
       "    </tr>\n",
       "  </thead>\n",
       "  <tbody>\n",
       "    <tr>\n",
       "      <th>0</th>\n",
       "      <td>1</td>\n",
       "      <td>1.0</td>\n",
       "      <td>8.0</td>\n",
       "      <td>0.0</td>\n",
       "      <td>2.0</td>\n",
       "      <td>1.0</td>\n",
       "      <td>1.0</td>\n",
       "      <td>1.0</td>\n",
       "      <td>0.0</td>\n",
       "      <td>1.0</td>\n",
       "    </tr>\n",
       "    <tr>\n",
       "      <th>1</th>\n",
       "      <td>2</td>\n",
       "      <td>0.0</td>\n",
       "      <td>6.0</td>\n",
       "      <td>0.0</td>\n",
       "      <td>2.0</td>\n",
       "      <td>1.0</td>\n",
       "      <td>0.0</td>\n",
       "      <td>1.0</td>\n",
       "      <td>0.0</td>\n",
       "      <td>1.0</td>\n",
       "    </tr>\n",
       "    <tr>\n",
       "      <th>2</th>\n",
       "      <td>3</td>\n",
       "      <td>0.0</td>\n",
       "      <td>7.0</td>\n",
       "      <td>0.0</td>\n",
       "      <td>3.0</td>\n",
       "      <td>1.0</td>\n",
       "      <td>1.0</td>\n",
       "      <td>1.0</td>\n",
       "      <td>0.0</td>\n",
       "      <td>1.0</td>\n",
       "    </tr>\n",
       "    <tr>\n",
       "      <th>3</th>\n",
       "      <td>4</td>\n",
       "      <td>0.0</td>\n",
       "      <td>5.0</td>\n",
       "      <td>0.0</td>\n",
       "      <td>2.0</td>\n",
       "      <td>0.0</td>\n",
       "      <td>0.0</td>\n",
       "      <td>1.0</td>\n",
       "      <td>0.0</td>\n",
       "      <td>1.0</td>\n",
       "    </tr>\n",
       "    <tr>\n",
       "      <th>4</th>\n",
       "      <td>5</td>\n",
       "      <td>0.0</td>\n",
       "      <td>7.0</td>\n",
       "      <td>0.0</td>\n",
       "      <td>3.0</td>\n",
       "      <td>1.0</td>\n",
       "      <td>0.0</td>\n",
       "      <td>1.0</td>\n",
       "      <td>0.0</td>\n",
       "      <td>1.0</td>\n",
       "    </tr>\n",
       "  </tbody>\n",
       "</table>\n",
       "</div>"
      ],
      "text/plain": [
       "   ID  medical History (Yes=1, No=0)  age  regular attender (Yes=1, No=0)  \\\n",
       "0   1                            1.0  8.0                             0.0   \n",
       "1   2                            0.0  6.0                             0.0   \n",
       "2   3                            0.0  7.0                             0.0   \n",
       "3   4                            0.0  5.0                             0.0   \n",
       "4   5                            0.0  7.0                             0.0   \n",
       "\n",
       "   Socioeconomic status(Low=1, Moderate=2, High=3)  \\\n",
       "0                                              2.0   \n",
       "1                                              2.0   \n",
       "2                                              3.0   \n",
       "3                                              2.0   \n",
       "4                                              3.0   \n",
       "\n",
       "   Ease of Access (Yes=1, No=0)  PRETREATMENT RADIOGRAPHS(Yes=1, No=0)  \\\n",
       "0                           1.0                                    1.0   \n",
       "1                           1.0                                    0.0   \n",
       "2                           1.0                                    1.0   \n",
       "3                           0.0                                    0.0   \n",
       "4                           1.0                                    0.0   \n",
       "\n",
       "   Justification for GA(Yes=1, No=0)  \\\n",
       "0                                1.0   \n",
       "1                                1.0   \n",
       "2                                1.0   \n",
       "3                                1.0   \n",
       "4                                1.0   \n",
       "\n",
       "   Type of GA list (RESTORATIVE=0, Composite=1,crowns =2, Extraction only=3)  \\\n",
       "0                                                0.0                           \n",
       "1                                                0.0                           \n",
       "2                                                0.0                           \n",
       "3                                                0.0                           \n",
       "4                                                0.0                           \n",
       "\n",
       "   REPEAT GA(Yes=1, No=0)  \n",
       "0                     1.0  \n",
       "1                     1.0  \n",
       "2                     1.0  \n",
       "3                     1.0  \n",
       "4                     1.0  "
      ]
     },
     "execution_count": 9,
     "metadata": {},
     "output_type": "execute_result"
    }
   ],
   "source": [
    "df1.head(5)"
   ]
  },
  {
   "cell_type": "code",
   "execution_count": 10,
   "metadata": {},
   "outputs": [
    {
     "name": "stdout",
     "output_type": "stream",
     "text": [
      "\u001b[1m\u001b[90mThe dataset has a size of:\u001b[0m (330, 10) \n",
      "\n",
      "\u001b[1m\u001b[90mMissing values:\u001b[0m\n"
     ]
    },
    {
     "data": {
      "text/plain": [
       "ID                                                                            0\n",
       "medical History (Yes=1, No=0)                                                23\n",
       "age                                                                          23\n",
       "regular attender (Yes=1, No=0)                                               23\n",
       "Socioeconomic status(Low=1, Moderate=2, High=3)                              23\n",
       "Ease of Access (Yes=1, No=0)                                                 23\n",
       "PRETREATMENT RADIOGRAPHS(Yes=1, No=0)                                        23\n",
       "Justification for GA(Yes=1, No=0)                                            23\n",
       "Type of GA list (RESTORATIVE=0, Composite=1,crowns =2, Extraction only=3)    23\n",
       "REPEAT GA(Yes=1, No=0)                                                       23\n",
       "dtype: int64"
      ]
     },
     "execution_count": 10,
     "metadata": {},
     "output_type": "execute_result"
    }
   ],
   "source": [
    "print(clr.S+\"The dataset has a size of:\"+clr.E, df1.shape, \"\\n\")\n",
    "\n",
    "print(clr.S+\"Missing values:\"+clr.E)\n",
    "df1.isna().sum()"
   ]
  },
  {
   "cell_type": "markdown",
   "metadata": {},
   "source": [
    "📝 It seems that we have 23 records that all of them are Nan. so let's drop them."
   ]
  },
  {
   "cell_type": "code",
   "execution_count": 14,
   "metadata": {},
   "outputs": [
    {
     "name": "stdout",
     "output_type": "stream",
     "text": [
      "\u001b[1m\u001b[90mThe dataset has a size of:\u001b[0m (307, 10) \n",
      "\n",
      "\u001b[1m\u001b[90mMissing values:\u001b[0m\n"
     ]
    },
    {
     "data": {
      "text/plain": [
       "ID                                                                           0\n",
       "medical History (Yes=1, No=0)                                                0\n",
       "age                                                                          0\n",
       "regular attender (Yes=1, No=0)                                               0\n",
       "Socioeconomic status(Low=1, Moderate=2, High=3)                              0\n",
       "Ease of Access (Yes=1, No=0)                                                 0\n",
       "PRETREATMENT RADIOGRAPHS(Yes=1, No=0)                                        0\n",
       "Justification for GA(Yes=1, No=0)                                            0\n",
       "Type of GA list (RESTORATIVE=0, Composite=1,crowns =2, Extraction only=3)    0\n",
       "REPEAT GA(Yes=1, No=0)                                                       0\n",
       "dtype: int64"
      ]
     },
     "execution_count": 14,
     "metadata": {},
     "output_type": "execute_result"
    }
   ],
   "source": [
    "df1.dropna(inplace=True)\n",
    "\n",
    "print(clr.S+\"The dataset has a size of:\"+clr.E, df1.shape, \"\\n\")\n",
    "print(clr.S+\"Missing values:\"+clr.E)\n",
    "df1.isna().sum()"
   ]
  },
  {
   "cell_type": "markdown",
   "metadata": {},
   "source": [
    "<div class=\"alert simple-alert\">\n",
    "  <p>💡<b>Note</b>: Great News!!!Now, It seems that don't have missing values 🎉</p\n",
    "</div>"
   ]
  },
  {
   "cell_type": "markdown",
   "metadata": {},
   "source": [
    "📝 df2 consists of data for patients who had Repeated GA "
   ]
  },
  {
   "cell_type": "code",
   "execution_count": 15,
   "metadata": {},
   "outputs": [
    {
     "data": {
      "text/html": [
       "<div>\n",
       "<style scoped>\n",
       "    .dataframe tbody tr th:only-of-type {\n",
       "        vertical-align: middle;\n",
       "    }\n",
       "\n",
       "    .dataframe tbody tr th {\n",
       "        vertical-align: top;\n",
       "    }\n",
       "\n",
       "    .dataframe thead th {\n",
       "        text-align: right;\n",
       "    }\n",
       "</style>\n",
       "<table border=\"1\" class=\"dataframe\">\n",
       "  <thead>\n",
       "    <tr style=\"text-align: right;\">\n",
       "      <th></th>\n",
       "      <th>ID</th>\n",
       "      <th>medical History (Yes=1, No=0)</th>\n",
       "      <th>age</th>\n",
       "      <th>regular attender (Yes=1, No=0)</th>\n",
       "      <th>Socioeconomic status(Low=1, Moderate=2, High=3)</th>\n",
       "      <th>Ease of Access (Yes=1, No=0)</th>\n",
       "      <th>PRETREATMENT RADIOGRAPHS(Yes=1, No=0)</th>\n",
       "      <th>Justification for GA(Yes=1, No=0)</th>\n",
       "      <th>Type of GA list (RESTORATIVE=0, Composite=1,crowns =2, Extraction only=3)</th>\n",
       "      <th>REPEAT GA(Yes=1, No=0)</th>\n",
       "    </tr>\n",
       "  </thead>\n",
       "  <tbody>\n",
       "    <tr>\n",
       "      <th>0</th>\n",
       "      <td>1</td>\n",
       "      <td>0</td>\n",
       "      <td>6</td>\n",
       "      <td>0</td>\n",
       "      <td>3</td>\n",
       "      <td>1</td>\n",
       "      <td>0</td>\n",
       "      <td>1</td>\n",
       "      <td>0</td>\n",
       "      <td>2</td>\n",
       "    </tr>\n",
       "    <tr>\n",
       "      <th>1</th>\n",
       "      <td>2</td>\n",
       "      <td>0</td>\n",
       "      <td>5</td>\n",
       "      <td>0</td>\n",
       "      <td>3</td>\n",
       "      <td>1</td>\n",
       "      <td>1</td>\n",
       "      <td>1</td>\n",
       "      <td>0</td>\n",
       "      <td>2</td>\n",
       "    </tr>\n",
       "    <tr>\n",
       "      <th>2</th>\n",
       "      <td>3</td>\n",
       "      <td>0</td>\n",
       "      <td>5</td>\n",
       "      <td>0</td>\n",
       "      <td>3</td>\n",
       "      <td>1</td>\n",
       "      <td>0</td>\n",
       "      <td>1</td>\n",
       "      <td>0</td>\n",
       "      <td>2</td>\n",
       "    </tr>\n",
       "    <tr>\n",
       "      <th>3</th>\n",
       "      <td>4</td>\n",
       "      <td>0</td>\n",
       "      <td>4</td>\n",
       "      <td>0</td>\n",
       "      <td>2</td>\n",
       "      <td>0</td>\n",
       "      <td>1</td>\n",
       "      <td>1</td>\n",
       "      <td>0</td>\n",
       "      <td>2</td>\n",
       "    </tr>\n",
       "    <tr>\n",
       "      <th>4</th>\n",
       "      <td>5</td>\n",
       "      <td>0</td>\n",
       "      <td>6</td>\n",
       "      <td>0</td>\n",
       "      <td>3</td>\n",
       "      <td>1</td>\n",
       "      <td>1</td>\n",
       "      <td>1</td>\n",
       "      <td>0</td>\n",
       "      <td>2</td>\n",
       "    </tr>\n",
       "  </tbody>\n",
       "</table>\n",
       "</div>"
      ],
      "text/plain": [
       "   ID  medical History (Yes=1, No=0)  age  regular attender (Yes=1, No=0)  \\\n",
       "0   1                              0    6                               0   \n",
       "1   2                              0    5                               0   \n",
       "2   3                              0    5                               0   \n",
       "3   4                              0    4                               0   \n",
       "4   5                              0    6                               0   \n",
       "\n",
       "   Socioeconomic status(Low=1, Moderate=2, High=3)  \\\n",
       "0                                                3   \n",
       "1                                                3   \n",
       "2                                                3   \n",
       "3                                                2   \n",
       "4                                                3   \n",
       "\n",
       "   Ease of Access (Yes=1, No=0)  PRETREATMENT RADIOGRAPHS(Yes=1, No=0)  \\\n",
       "0                             1                                      0   \n",
       "1                             1                                      1   \n",
       "2                             1                                      0   \n",
       "3                             0                                      1   \n",
       "4                             1                                      1   \n",
       "\n",
       "   Justification for GA(Yes=1, No=0)  \\\n",
       "0                                  1   \n",
       "1                                  1   \n",
       "2                                  1   \n",
       "3                                  1   \n",
       "4                                  1   \n",
       "\n",
       "   Type of GA list (RESTORATIVE=0, Composite=1,crowns =2, Extraction only=3)  \\\n",
       "0                                                  0                           \n",
       "1                                                  0                           \n",
       "2                                                  0                           \n",
       "3                                                  0                           \n",
       "4                                                  0                           \n",
       "\n",
       "   REPEAT GA(Yes=1, No=0)  \n",
       "0                       2  \n",
       "1                       2  \n",
       "2                       2  \n",
       "3                       2  \n",
       "4                       2  "
      ]
     },
     "execution_count": 15,
     "metadata": {},
     "output_type": "execute_result"
    }
   ],
   "source": [
    "df2.head(5)"
   ]
  },
  {
   "cell_type": "code",
   "execution_count": 17,
   "metadata": {},
   "outputs": [
    {
     "name": "stdout",
     "output_type": "stream",
     "text": [
      "\u001b[1m\u001b[90mThe dataset has a size of:\u001b[0m (62, 10) \n",
      "\n",
      "\u001b[1m\u001b[90mMissing values:\u001b[0m\n"
     ]
    },
    {
     "data": {
      "text/plain": [
       "ID                                                                           0\n",
       "medical History (Yes=1, No=0)                                                0\n",
       "age                                                                          0\n",
       "regular attender (Yes=1, No=0)                                               0\n",
       "Socioeconomic status(Low=1, Moderate=2, High=3)                              0\n",
       "Ease of Access (Yes=1, No=0)                                                 0\n",
       "PRETREATMENT RADIOGRAPHS(Yes=1, No=0)                                        0\n",
       "Justification for GA(Yes=1, No=0)                                            0\n",
       "Type of GA list (RESTORATIVE=0, Composite=1,crowns =2, Extraction only=3)    0\n",
       "REPEAT GA(Yes=1, No=0)                                                       0\n",
       "dtype: int64"
      ]
     },
     "execution_count": 17,
     "metadata": {},
     "output_type": "execute_result"
    }
   ],
   "source": [
    "print(clr.S+\"The dataset has a size of:\"+clr.E, df2.shape, \"\\n\")\n",
    "\n",
    "print(clr.S+\"Missing values:\"+clr.E)\n",
    "df2.isna().sum()"
   ]
  },
  {
   "cell_type": "markdown",
   "metadata": {},
   "source": [
    "📝 Because of similarity in structure of both datasets. we append them together."
   ]
  },
  {
   "cell_type": "code",
   "execution_count": 27,
   "metadata": {
    "scrolled": true
   },
   "outputs": [
    {
     "name": "stdout",
     "output_type": "stream",
     "text": [
      "\u001b[1m\u001b[90mThe combined dataset has a size of:\u001b[0m (369, 10) \n",
      "\n"
     ]
    }
   ],
   "source": [
    "combined_df=df1.append(df2)\n",
    "\n",
    "print(clr.S+\"The combined dataset has a size of:\"+clr.E, combined_df.shape, \"\\n\")"
   ]
  },
  {
   "cell_type": "markdown",
   "metadata": {},
   "source": [
    "👌 let's see each field and take a note about each one"
   ]
  },
  {
   "cell_type": "markdown",
   "metadata": {},
   "source": [
    "<h2>1-1 ID</h2>"
   ]
  },
  {
   "cell_type": "markdown",
   "metadata": {},
   "source": [
    "![ID](Images/ID.jpg)"
   ]
  },
  {
   "cell_type": "markdown",
   "metadata": {},
   "source": [
    "📌Unique identifier for each patient"
   ]
  },
  {
   "cell_type": "code",
   "execution_count": 41,
   "metadata": {},
   "outputs": [
    {
     "name": "stdout",
     "output_type": "stream",
     "text": [
      "\u001b[1m\u001b[90m The ID field has  has :\u001b[0m 369 \u001b[1m\u001b[90munique values \u001b[0m\n",
      "\n"
     ]
    }
   ],
   "source": [
    "print(clr.S+\" The ID field has  has :\"+clr.E, combined_df.iloc[:,0].nunique(), clr.S+\"unique values \"+clr.E+\"\\n\")\n"
   ]
  },
  {
   "cell_type": "markdown",
   "metadata": {},
   "source": [
    "📝 As we know that we have 369 distinct records, it seems that during appending datasets we had experienced some kind of overlapping in ID.<br> Let's fix this."
   ]
  },
  {
   "cell_type": "code",
   "execution_count": 39,
   "metadata": {},
   "outputs": [
    {
     "name": "stdout",
     "output_type": "stream",
     "text": [
      "\u001b[1m\u001b[90mThe ID field has \u001b[0m 369 \u001b[1m\u001b[90munique values \u001b[0m\n",
      "\n"
     ]
    }
   ],
   "source": [
    "combined_df.drop(\"ID\",axis=1,inplace=True)\n",
    "\n",
    "combined_df[\"ID\"]=np.arange(1,370)\n",
    "\n",
    "cols = combined_df.columns.tolist()\n",
    "cols = cols[-1:] + cols[:-1]\n",
    "combined_df = combined_df.loc[:, cols]\n",
    "\n",
    "print(clr.S+\"The ID field has \"+clr.E, combined_df.iloc[:,0].nunique(), clr.S+\"unique values \"+clr.E+\"\\n\")"
   ]
  },
  {
   "cell_type": "markdown",
   "metadata": {},
   "source": [
    "<h2>1-2 Medical History: </h2>"
   ]
  },
  {
   "cell_type": "markdown",
   "metadata": {},
   "source": [
    "![Medical History](Images/MedicalHistory.jpg)"
   ]
  },
  {
   "cell_type": "markdown",
   "metadata": {},
   "source": [
    "Binary variable indicating whether the patient has a medical history (Yes=1, No=0)"
   ]
  },
  {
   "cell_type": "code",
   "execution_count": 65,
   "metadata": {},
   "outputs": [],
   "source": [
    "#some changes in type\n",
    "combined_df.iloc[:,1]=combined_df.iloc[:,1].astype(\"int\")"
   ]
  },
  {
   "cell_type": "code",
   "execution_count": 91,
   "metadata": {},
   "outputs": [
    {
     "data": {
      "image/png": "[encoded data removed]",
      "text/plain": [
       "<Figure size 432x288 with 1 Axes>"
      ]
     },
     "metadata": {},
     "output_type": "display_data"
    },
    {
     "data": {
      "text/html": [
       "\n",
       "<style>\n",
       ".output_png {\n",
       "    display: table-cell;\n",
       "    text-align: center;\n",
       "    vertical-align: middle;\n",
       "}\n",
       "</style>\n"
      ],
      "text/plain": [
       "<IPython.core.display.HTML object>"
      ]
     },
     "execution_count": 91,
     "metadata": {},
     "output_type": "execute_result"
    }
   ],
   "source": [
    "fig,ax=plt.subplots()\n",
    "temp_df=combined_df.iloc[:,1].value_counts()\n",
    "bars=temp_df.plot(kind=\"bar\",color=my_colors[1])\n",
    "ax.set_title(\"Has medical History?\")\n",
    "ax.set_xticklabels([\"No\",\"Yes\"],rotation=45)\n",
    "ax.set_ylim(0,max(temp_df)+80)\n",
    "\n",
    "plt.show()\n",
    "\n",
    "\n",
    "\n",
    "# just for centering the plots\n",
    "HTML(\"\"\"\n",
    "<style>\n",
    ".output_png {\n",
    "    display: table-cell;\n",
    "    text-align: center;\n",
    "    vertical-align: middle;\n",
    "}\n",
    "</style>\n",
    "\"\"\")"
   ]
  },
  {
   "cell_type": "markdown",
   "metadata": {},
   "source": [
    "<h2>1-3 Age: </h2>"
   ]
  },
  {
   "cell_type": "markdown",
   "metadata": {},
   "source": [
    "![Age](Images/Age.jpg)"
   ]
  },
  {
   "cell_type": "markdown",
   "metadata": {},
   "source": [
    "Age of the patient"
   ]
  },
  {
   "cell_type": "code",
   "execution_count": 103,
   "metadata": {},
   "outputs": [],
   "source": [
    "#some changes in type\n",
    "combined_df.iloc[:,2]=combined_df.iloc[:,2].astype(\"int\")"
   ]
  },
  {
   "cell_type": "code",
   "execution_count": 104,
   "metadata": {},
   "outputs": [
    {
     "data": {
      "text/plain": [
       "<Figure size 864x288 with 0 Axes>"
      ]
     },
     "metadata": {},
     "output_type": "display_data"
    },
    {
     "data": {
      "image/png": "[encoded data removed]",
      "text/plain": [
       "<Figure size 360x360 with 1 Axes>"
      ]
     },
     "metadata": {},
     "output_type": "display_data"
    }
   ],
   "source": [
    "sns.set_style('whitegrid')\n",
    "plt.figure(figsize = (12,4))\n",
    "sns.displot(data= combined_df.iloc[:,2], bins = 10,  kde=True, color = my_colors[2])\n",
    "plt.show()"
   ]
  },
  {
   "cell_type": "markdown",
   "metadata": {},
   "source": [
    "📝 It has almost normal shape. No scaling is needed."
   ]
  },
  {
   "cell_type": "markdown",
   "metadata": {},
   "source": [
    "<h2>1-4 Regular Attender: </h2>"
   ]
  },
  {
   "cell_type": "markdown",
   "metadata": {},
   "source": [
    "Binary variable indicating whether the patient is a regular attender (Yes=1, No=0)"
   ]
  },
  {
   "cell_type": "code",
   "execution_count": 105,
   "metadata": {},
   "outputs": [],
   "source": [
    "#some changes in type\n",
    "combined_df.iloc[:,3]=combined_df.iloc[:,3].astype(\"int\")"
   ]
  },
  {
   "cell_type": "code",
   "execution_count": 111,
   "metadata": {},
   "outputs": [
    {
     "data": {
      "image/png": "[encoded data removed]",
      "text/plain": [
       "<Figure size 432x288 with 1 Axes>"
      ]
     },
     "metadata": {},
     "output_type": "display_data"
    }
   ],
   "source": [
    "fig,ax=plt.subplots()\n",
    "temp_df=combined_df.iloc[:,3].value_counts()\n",
    "bars=temp_df.plot(kind=\"bar\",color=my_colors[5])\n",
    "ax.set_title(\" Are Regular Attenders?\")\n",
    "ax.set_xticklabels([\"No\",\"Yes\"],rotation=45)\n",
    "ax.set_ylim(0,max(temp_df)+80)\n",
    "\n",
    "plt.show()"
   ]
  },
  {
   "cell_type": "markdown",
   "metadata": {},
   "source": [
    "📝 Because all records have same value so there is no information gain on this. This will be removed at next step."
   ]
  },
  {
   "cell_type": "markdown",
   "metadata": {},
   "source": [
    "<h2>1-5 Socioeconomic Status: </h2>"
   ]
  },
  {
   "cell_type": "markdown",
   "metadata": {},
   "source": [
    "Categorical variable indicating socioeconomic status (Low=1, Moderate=2, High=3)"
   ]
  },
  {
   "cell_type": "code",
   "execution_count": 110,
   "metadata": {},
   "outputs": [],
   "source": [
    "#some changes in type\n",
    "combined_df.iloc[:,4]=combined_df.iloc[:,4].astype(\"int\")"
   ]
  },
  {
   "cell_type": "code",
   "execution_count": 113,
   "metadata": {},
   "outputs": [
    {
     "data": {
      "image/png": "[encoded data removed]",
      "text/plain": [
       "<Figure size 432x288 with 1 Axes>"
      ]
     },
     "metadata": {},
     "output_type": "display_data"
    }
   ],
   "source": [
    "fig,ax=plt.subplots()\n",
    "temp_df=combined_df.iloc[:,4].value_counts()\n",
    "bars=temp_df.plot(kind=\"bar\",color=my_colors[5])\n",
    "ax.set_title(\" Socioeconomic Status\")\n",
    "ax.set_xticklabels([\"High\",\"Moderate\",\"Low\"],rotation=45)\n",
    "ax.set_ylim(0,max(temp_df)+80)\n",
    "\n",
    "plt.show()"
   ]
  },
  {
   "cell_type": "markdown",
   "metadata": {},
   "source": [
    "📝 Wealthy people spend more on their children dental issues. It makes sense. we will use one hot encoding on next step on this."
   ]
  },
  {
   "cell_type": "markdown",
   "metadata": {},
   "source": [
    " <h2>1-6 Ease of Access:  </h2>"
   ]
  },
  {
   "cell_type": "markdown",
   "metadata": {},
   "source": [
    "![Dental Care](Images/Dentalcare.jpg)"
   ]
  },
  {
   "cell_type": "markdown",
   "metadata": {},
   "source": [
    "Binary variable indicating ease of access to dental care (Yes=1, No=0)"
   ]
  },
  {
   "cell_type": "code",
   "execution_count": 115,
   "metadata": {},
   "outputs": [],
   "source": [
    "#some changes in type\n",
    "combined_df.iloc[:,5]=combined_df.iloc[:,5].astype(\"int\")"
   ]
  },
  {
   "cell_type": "code",
   "execution_count": 123,
   "metadata": {},
   "outputs": [
    {
     "data": {
      "image/png": "[encoded data removed]",
      "text/plain": [
       "<Figure size 432x288 with 1 Axes>"
      ]
     },
     "metadata": {},
     "output_type": "display_data"
    }
   ],
   "source": [
    "fig,ax=plt.subplots()\n",
    "temp_df=combined_df.iloc[:,5].value_counts()\n",
    "bars=temp_df.plot(kind=\"bar\",color=my_colors[5])\n",
    "ax.set_title(\" Ease of Access to denatal care?\")\n",
    "ax.set_xticklabels([\"Yes\",\"No\"],rotation=45)\n",
    "ax.set_ylim(0,max(temp_df)+80)\n",
    "\n",
    "plt.show()"
   ]
  },
  {
   "cell_type": "markdown",
   "metadata": {},
   "source": [
    "📝 Most of people who did GA, had good dental care."
   ]
  },
  {
   "cell_type": "markdown",
   "metadata": {},
   "source": [
    " <h2>1-7 Pre-treatment Radiographs: </h2>"
   ]
  },
  {
   "cell_type": "markdown",
   "metadata": {},
   "source": [
    "![Xray](Images/XRay.jpg)"
   ]
  },
  {
   "cell_type": "markdown",
   "metadata": {},
   "source": [
    " Binary variable indicating whether pre-treatment radiographs are available (Yes=1, No=0)"
   ]
  },
  {
   "cell_type": "code",
   "execution_count": 122,
   "metadata": {},
   "outputs": [],
   "source": [
    "#some changes in type\n",
    "combined_df.iloc[:,6]=combined_df.iloc[:,6].astype(\"int\")"
   ]
  },
  {
   "cell_type": "code",
   "execution_count": 125,
   "metadata": {},
   "outputs": [
    {
     "data": {
      "image/png": "[encoded data removed]",
      "text/plain": [
       "<Figure size 432x288 with 1 Axes>"
      ]
     },
     "metadata": {},
     "output_type": "display_data"
    }
   ],
   "source": [
    "fig,ax=plt.subplots()\n",
    "temp_df=combined_df.iloc[:,6].value_counts()\n",
    "bars=temp_df.plot(kind=\"bar\",color=my_colors[5])\n",
    "ax.set_title(\" Did X-Ray?\")\n",
    "ax.set_xticklabels([\"No\",\"Yes\"],rotation=45)\n",
    "ax.set_ylim(0,max(temp_df)+80)\n",
    "\n",
    "plt.show()"
   ]
  },
  {
   "cell_type": "markdown",
   "metadata": {},
   "source": [
    "📝 Most of time there is no need for X-Ray before GA."
   ]
  },
  {
   "cell_type": "markdown",
   "metadata": {},
   "source": [
    " <h2>1-8 Justification for GA:  </h2>"
   ]
  },
  {
   "cell_type": "markdown",
   "metadata": {},
   "source": [
    "Binary variable indicating whether there is a justification for GA (Yes=1, No=0)"
   ]
  },
  {
   "cell_type": "code",
   "execution_count": 128,
   "metadata": {},
   "outputs": [],
   "source": [
    "#some changes in type\n",
    "combined_df.iloc[:,7]=combined_df.iloc[:,7].astype(\"int\")"
   ]
  },
  {
   "cell_type": "code",
   "execution_count": 132,
   "metadata": {},
   "outputs": [
    {
     "data": {
      "image/png": "[encoded data removed]",
      "text/plain": [
       "<Figure size 432x288 with 1 Axes>"
      ]
     },
     "metadata": {},
     "output_type": "display_data"
    }
   ],
   "source": [
    "fig,ax=plt.subplots()\n",
    "temp_df=combined_df.iloc[:,7].value_counts()\n",
    "bars=temp_df.plot(kind=\"bar\",color=my_colors[5])\n",
    "ax.set_title(\" Justification for GA?\")\n",
    "ax.set_xticklabels([\"Yes\",\"No\"],rotation=45)\n",
    "ax.set_ylim(0,max(temp_df)+80)\n",
    "\n",
    "plt.show()"
   ]
  },
  {
   "cell_type": "markdown",
   "metadata": {},
   "source": [
    "📝 Because all records have same value so there is no information gain on this. This will be removed at next step."
   ]
  },
  {
   "cell_type": "markdown",
   "metadata": {},
   "source": [
    " <h2>1-9 Type of GA:   </h2>"
   ]
  },
  {
   "cell_type": "markdown",
   "metadata": {},
   "source": [
    "Categorical variable indicating the type of GA procedure (RESTORATIVE=0, Composite=1, Crowns=2, Extraction only=3)"
   ]
  },
  {
   "cell_type": "code",
   "execution_count": 135,
   "metadata": {},
   "outputs": [],
   "source": [
    "#some changes in type\n",
    "combined_df.iloc[:,8]=combined_df.iloc[:,8].astype(\"int\")"
   ]
  },
  {
   "cell_type": "code",
   "execution_count": 143,
   "metadata": {},
   "outputs": [
    {
     "data": {
      "image/png": "[encoded data removed]",
      "text/plain": [
       "<Figure size 432x288 with 1 Axes>"
      ]
     },
     "metadata": {},
     "output_type": "display_data"
    }
   ],
   "source": [
    "fig,ax=plt.subplots()\n",
    "temp_df=combined_df.iloc[:,8].value_counts()\n",
    "bars=temp_df.plot(kind=\"bar\",color=my_colors[5])\n",
    "ax.set_title(\" Type of GA ?\")\n",
    "ax.set_xticklabels([\"Restorative\",\"Composite\"],rotation=0)\n",
    "ax.set_ylim(0,max(temp_df)+80)\n",
    "\n",
    "plt.show()"
   ]
  },
  {
   "cell_type": "markdown",
   "metadata": {},
   "source": [
    "📝 From the chart, we can see clearly most of the time GA is for Restorative. we will use one hot encoding on next step on this."
   ]
  },
  {
   "cell_type": "markdown",
   "metadata": {},
   "source": [
    " <h2>1-10 Repeat GA:(Target Variable)   </h2>"
   ]
  },
  {
   "cell_type": "markdown",
   "metadata": {},
   "source": [
    " Binary variable indicating whether the patient requires repeat GA (Yes=1, No=0)    ????"
   ]
  },
  {
   "cell_type": "code",
   "execution_count": 145,
   "metadata": {},
   "outputs": [],
   "source": [
    "#some changes in type\n",
    "combined_df.iloc[:,9]=combined_df.iloc[:,9].astype(\"int\")"
   ]
  },
  {
   "cell_type": "code",
   "execution_count": 150,
   "metadata": {},
   "outputs": [
    {
     "data": {
      "image/png": "[encoded data removed]",
      "text/plain": [
       "<Figure size 432x288 with 1 Axes>"
      ]
     },
     "metadata": {},
     "output_type": "display_data"
    }
   ],
   "source": [
    "fig,ax=plt.subplots()\n",
    "temp_df=combined_df.iloc[:,9].value_counts()\n",
    "bars=temp_df.plot(kind=\"bar\",color=my_colors[5])\n",
    "ax.set_title(\" Number of GA ?\")\n",
    "ax.set_xticklabels([\"Once GA\",\"Twice GA\",\"Trice GA\"],rotation=45)\n",
    "ax.set_ylim(0,max(temp_df)+80)\n",
    "\n",
    "plt.show()"
   ]
  },
  {
   "cell_type": "markdown",
   "metadata": {},
   "source": [
    "📝 @@@"
   ]
  }
 ],
 "metadata": {
  "kernelspec": {
   "display_name": "Python 3",
   "language": "python",
   "name": "python3"
  },
  "language_info": {
   "codemirror_mode": {
    "name": "ipython",
    "version": 3
   },
   "file_extension": ".py",
   "mimetype": "text/x-python",
   "name": "python",
   "nbconvert_exporter": "python",
   "pygments_lexer": "ipython3",
   "version": "3.6.8"
  }
 },
 "nbformat": 4,
 "nbformat_minor": 2
}
